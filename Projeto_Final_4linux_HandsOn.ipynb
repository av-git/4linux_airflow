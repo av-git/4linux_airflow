{
 "cells": [
  {
   "cell_type": "markdown",
   "metadata": {},
   "source": [
    "# Análise de sentimento em avaliações de Filmes (IMDb)"
   ]
  },
  {
   "cell_type": "markdown",
   "metadata": {},
   "source": [
    "Neste notebook vamos treinar um modelo estatístico para realizar uma análise de sentimento em avaliações de filmes. Depois de treinarmos o modelo vamos salva-lo para depois utilizarmos ele em um DAG do airflow.\n",
    "\n",
    "Para as etapas de pré processamento vamos utilizar duas bibliotecas muito utilizadas para NLP: nltk e spacy\n",
    "\n",
    "*IMDb: Internet Movie Database"
   ]
  },
  {
   "cell_type": "markdown",
   "metadata": {},
   "source": [
    "### imports"
   ]
  },
  {
   "cell_type": "code",
   "execution_count": null,
   "metadata": {
    "colab": {
     "base_uri": "https://localhost:8080/",
     "height": 189
    },
    "colab_type": "code",
    "id": "tvdE2BaSs1QN",
    "outputId": "76d50fdf-a8e3-43f6-dbf4-29c7c0fe6a9e"
   },
   "outputs": [],
   "source": [
    "import pandas as pd\n",
    "\n",
    "import nltk\n",
    "import spacy\n",
    "import re\n",
    "\n",
    "from unicodedata import normalize"
   ]
  },
  {
   "cell_type": "markdown",
   "metadata": {},
   "source": [
    "### Leitura do Dataframe"
   ]
  },
  {
   "cell_type": "code",
   "execution_count": null,
   "metadata": {},
   "outputs": [],
   "source": [
    "df = #TODO: leitura do csv\n",
    "df.head(10)"
   ]
  },
  {
   "cell_type": "markdown",
   "metadata": {},
   "source": [
    "### Contagem dos sentimentos"
   ]
  },
  {
   "cell_type": "code",
   "execution_count": null,
   "metadata": {},
   "outputs": [],
   "source": [
    "#TODO: contar a quantidade de avaliações por classe"
   ]
  },
  {
   "cell_type": "markdown",
   "metadata": {},
   "source": [
    "### Preparação dos dados "
   ]
  },
  {
   "cell_type": "markdown",
   "metadata": {},
   "source": [
    "A primeira etapa que vamos realizar é a obtenção das stopwords no idioma português. As stopwords mais tarde serão removidas do dataset pois elas não contém informações relevantes para a análise."
   ]
  },
  {
   "cell_type": "code",
   "execution_count": null,
   "metadata": {},
   "outputs": [],
   "source": [
    "!python -m spacy download pt --user\n",
    "\n",
    "nlp = spacy.load('pt')\n",
    "nltk.download('stopwords')\n",
    "\n",
    "stopwordsnltk = nltk.corpus.stopwords.words('portuguese')\n",
    "\n",
    "stopwordsspacy = spacy.lang.pt.stop_words.STOP_WORDS\n",
    "\n",
    "stopwords = set(stopwordsnltk + list(stopwordsspacy))\n",
    "\n"
   ]
  },
  {
   "cell_type": "code",
   "execution_count": null,
   "metadata": {},
   "outputs": [],
   "source": [
    "stopwords"
   ]
  },
  {
   "cell_type": "markdown",
   "metadata": {},
   "source": [
    "Vamos elimar a coluna que contém a avaliação em inglês"
   ]
  },
  {
   "cell_type": "code",
   "execution_count": null,
   "metadata": {},
   "outputs": [],
   "source": [
    "#TODO: remover a coluna 'text_en' do dataset"
   ]
  },
  {
   "cell_type": "markdown",
   "metadata": {},
   "source": [
    "Nesse passo realizamos a codificação da coluna 'sentiment'"
   ]
  },
  {
   "cell_type": "code",
   "execution_count": null,
   "metadata": {},
   "outputs": [],
   "source": [
    "#TODO: codificar com inteiros (0 ou 1) a coluna 'sentiment', 0 para 'neg' e 1 para 'pos'. \n",
    "#Escrever em uma outra coluna com o nome 'encod_sent'"
   ]
  },
  {
   "cell_type": "code",
   "execution_count": null,
   "metadata": {},
   "outputs": [],
   "source": [
    "encoding_target(df)"
   ]
  },
  {
   "cell_type": "markdown",
   "metadata": {},
   "source": [
    "Vamos também retirar outros fatores que introduzem ruídos no nosso dataset como acentos ou se a palavra contém letras maiúsculas ou minúsculas."
   ]
  },
  {
   "cell_type": "code",
   "execution_count": null,
   "metadata": {},
   "outputs": [],
   "source": [
    "def remover_acentos(texto):\n",
    "    return normalize('NFKD', texto).encode('ASCII', 'ignore').decode('ASCII').lower()\n",
    "\n",
    "def remover_acentos_pontuacoes(df):\n",
    "    df['text_pt'] = df.text_pt.apply(lambda texto: remover_acentos(texto))\n",
    "    df['text_pt'] = df.text_pt.apply(lambda texto: re.sub(u'[^a-z]', ' ', texto))\n",
    "    df['text_pt'] = df.text_pt.apply(lambda texto: re.sub(u'\\s+', ' ', texto))\n",
    "    return df"
   ]
  },
  {
   "cell_type": "code",
   "execution_count": null,
   "metadata": {},
   "outputs": [],
   "source": [
    "remover_acentos_pontuacoes(df)"
   ]
  },
  {
   "cell_type": "code",
   "execution_count": null,
   "metadata": {},
   "outputs": [],
   "source": [
    "stopwords = [remover_acentos(stop) for stop in stopwords]"
   ]
  },
  {
   "cell_type": "code",
   "execution_count": null,
   "metadata": {},
   "outputs": [],
   "source": [
    "def remove_stop_words(df):\n",
    "    df['text_pt_w_sw'] = df.text_pt.apply(lambda texto: ' '.join(p for p in texto.split() if p not in stopwords))\n",
    "    return df"
   ]
  },
  {
   "cell_type": "code",
   "execution_count": null,
   "metadata": {},
   "outputs": [],
   "source": [
    "remove_stop_words(df)"
   ]
  },
  {
   "cell_type": "markdown",
   "metadata": {},
   "source": [
    "Aqui vamos gerar vetores de tamanho 5000 baseados em tf-idf para cada uma das avaliações "
   ]
  },
  {
   "cell_type": "code",
   "execution_count": null,
   "metadata": {},
   "outputs": [],
   "source": [
    "from sklearn.feature_extraction.text import TfidfVectorizer\n",
    "\n",
    "vectorizer = TfidfVectorizer(ngram_range=(1,1), use_idf=True, max_features=5000)\n",
    "text_vect = vectorizer.fit_transform(df['text_pt_w_sw'])"
   ]
  },
  {
   "cell_type": "markdown",
   "metadata": {},
   "source": [
    "### Modelagem"
   ]
  },
  {
   "cell_type": "markdown",
   "metadata": {},
   "source": [
    "Vamos treinar dois modelos e escolher aquele com a melhor pontuação de acurácia\n",
    "\n",
    "*Você pode experimentar com outros modelos vistos durante o curso e treina-los, será que é possível alcançar acurácia maior?"
   ]
  },
  {
   "cell_type": "code",
   "execution_count": null,
   "metadata": {},
   "outputs": [],
   "source": [
    "from sklearn.model_selection import train_test_split\n",
    "X_train,X_test,y_train,y_test = #TODO: Separar em datasets de treino e teste, com 20% para teste e estratificado \n",
    "#com base no tipo de avaliação, coluna 'encod_sent'\n",
    "\n",
    "#usar o parâmetro 'stratify' passando a coluna 'encod_sent'"
   ]
  },
  {
   "cell_type": "code",
   "execution_count": null,
   "metadata": {},
   "outputs": [],
   "source": [
    "from sklearn.metrics import accuracy_score"
   ]
  },
  {
   "cell_type": "code",
   "execution_count": null,
   "metadata": {},
   "outputs": [],
   "source": [
    "from sklearn.naive_bayes import MultinomialNB\n",
    "\n",
    "clf = MultinomialNB().fit(X_train, y_train)\n",
    "y_predict_naive = clf.predict(X_test)\n",
    "acc = accuracy_score(y_predict_naive, y_test)\n",
    "\n",
    "print(acc)"
   ]
  },
  {
   "cell_type": "code",
   "execution_count": null,
   "metadata": {},
   "outputs": [],
   "source": [
    "from sklearn.linear_model import LogisticRegression\n",
    "\n",
    "clf = #TODO: Treinar o modelo de regressão logística e mostrar a sua acurácia"
   ]
  },
  {
   "cell_type": "markdown",
   "metadata": {},
   "source": [
    "Qual foi o modelo com melhor resultado?\n",
    "\n",
    "Abaixo vemos uma matriz de confusão para termos uma ideia mais ampla sobre a performance do modelo escolhido"
   ]
  },
  {
   "cell_type": "code",
   "execution_count": null,
   "metadata": {},
   "outputs": [],
   "source": [
    "from sklearn.metrics import confusion_matrix\n",
    "print(confusion_matrix(y_test, #TODO: passar o array de valores 'preditos' pelo modelo escolhido como parâmetro))"
   ]
  },
  {
   "cell_type": "markdown",
   "metadata": {},
   "source": [
    "### Persistindo o modelo final"
   ]
  },
  {
   "cell_type": "code",
   "execution_count": null,
   "metadata": {},
   "outputs": [],
   "source": [
    "from joblib import dump\n",
    "dump(#TODO: passar o modelo escolhido como parâmetro, 'modeloFinal4linux.joblib') "
   ]
  }
 ],
 "metadata": {
  "colab": {
   "collapsed_sections": [],
   "name": "Aula 6 NLP.ipynb",
   "provenance": []
  },
  "kernelspec": {
   "display_name": "Python 3",
   "language": "python",
   "name": "python3"
  },
  "language_info": {
   "codemirror_mode": {
    "name": "ipython",
    "version": 3
   },
   "file_extension": ".py",
   "mimetype": "text/x-python",
   "name": "python",
   "nbconvert_exporter": "python",
   "pygments_lexer": "ipython3",
   "version": "3.7.3"
  }
 },
 "nbformat": 4,
 "nbformat_minor": 1
}
